{
  "nbformat": 4,
  "nbformat_minor": 0,
  "metadata": {
    "colab": {
      "provenance": [],
      "authorship_tag": "ABX9TyNtZ10zMmJaXSXAx+0NGJlV",
      "include_colab_link": true
    },
    "kernelspec": {
      "name": "python3",
      "display_name": "Python 3"
    },
    "language_info": {
      "name": "python"
    }
  },
  "cells": [
    {
      "cell_type": "markdown",
      "metadata": {
        "id": "view-in-github",
        "colab_type": "text"
      },
      "source": [
        "<a href=\"https://colab.research.google.com/github/Vineeth-19/technoHacks/blob/main/sentimentAnalysis.ipynb\" target=\"_parent\"><img src=\"https://colab.research.google.com/assets/colab-badge.svg\" alt=\"Open In Colab\"/></a>"
      ]
    },
    {
      "cell_type": "code",
      "execution_count": 1,
      "metadata": {
        "colab": {
          "base_uri": "https://localhost:8080/"
        },
        "id": "NFkm9i2BXHr9",
        "outputId": "2d7be41d-c8c6-443d-e9fc-e4edb1d6ca85"
      },
      "outputs": [
        {
          "output_type": "stream",
          "name": "stdout",
          "text": [
            "Requirement already satisfied: nltk in /usr/local/lib/python3.10/dist-packages (3.8.1)\n",
            "Requirement already satisfied: click in /usr/local/lib/python3.10/dist-packages (from nltk) (8.1.7)\n",
            "Requirement already satisfied: joblib in /usr/local/lib/python3.10/dist-packages (from nltk) (1.3.2)\n",
            "Requirement already satisfied: regex>=2021.8.3 in /usr/local/lib/python3.10/dist-packages (from nltk) (2023.6.3)\n",
            "Requirement already satisfied: tqdm in /usr/local/lib/python3.10/dist-packages (from nltk) (4.66.1)\n",
            "Collecting vaderSentiment\n",
            "  Downloading vaderSentiment-3.3.2-py2.py3-none-any.whl (125 kB)\n",
            "\u001b[2K     \u001b[90m━━━━━━━━━━━━━━━━━━━━━━━━━━━━━━━━━━━━━━━\u001b[0m \u001b[32m126.0/126.0 kB\u001b[0m \u001b[31m2.7 MB/s\u001b[0m eta \u001b[36m0:00:00\u001b[0m\n",
            "\u001b[?25hRequirement already satisfied: requests in /usr/local/lib/python3.10/dist-packages (from vaderSentiment) (2.31.0)\n",
            "Requirement already satisfied: charset-normalizer<4,>=2 in /usr/local/lib/python3.10/dist-packages (from requests->vaderSentiment) (3.2.0)\n",
            "Requirement already satisfied: idna<4,>=2.5 in /usr/local/lib/python3.10/dist-packages (from requests->vaderSentiment) (3.4)\n",
            "Requirement already satisfied: urllib3<3,>=1.21.1 in /usr/local/lib/python3.10/dist-packages (from requests->vaderSentiment) (2.0.4)\n",
            "Requirement already satisfied: certifi>=2017.4.17 in /usr/local/lib/python3.10/dist-packages (from requests->vaderSentiment) (2023.7.22)\n",
            "Installing collected packages: vaderSentiment\n",
            "Successfully installed vaderSentiment-3.3.2\n"
          ]
        }
      ],
      "source": [
        "!pip install nltk\n",
        "!pip install vaderSentiment\n"
      ]
    },
    {
      "cell_type": "code",
      "source": [
        "import nltk\n",
        "from nltk.sentiment.vader import SentimentIntensityAnalyzer"
      ],
      "metadata": {
        "id": "njmTMv2MZbZI"
      },
      "execution_count": 2,
      "outputs": []
    },
    {
      "cell_type": "code",
      "source": [
        "nltk.download('vader_lexicon')"
      ],
      "metadata": {
        "colab": {
          "base_uri": "https://localhost:8080/"
        },
        "id": "oUyDrx3qZh7Z",
        "outputId": "944ae131-819c-4ba7-956f-c25920736e35"
      },
      "execution_count": 3,
      "outputs": [
        {
          "output_type": "stream",
          "name": "stderr",
          "text": [
            "[nltk_data] Downloading package vader_lexicon to /root/nltk_data...\n"
          ]
        },
        {
          "output_type": "execute_result",
          "data": {
            "text/plain": [
              "True"
            ]
          },
          "metadata": {},
          "execution_count": 3
        }
      ]
    },
    {
      "cell_type": "code",
      "source": [
        "import pandas as pd\n",
        "data=pd.read_csv(\"Tweets.csv\")"
      ],
      "metadata": {
        "id": "uNJOWO2EZlvV"
      },
      "execution_count": 4,
      "outputs": []
    },
    {
      "cell_type": "code",
      "source": [
        "data.head()\n",
        "sia = SentimentIntensityAnalyzer()"
      ],
      "metadata": {
        "id": "9645oDJuZqPO"
      },
      "execution_count": 6,
      "outputs": []
    },
    {
      "cell_type": "code",
      "source": [
        "def classify_sentiment(compound_score):\n",
        "    if compound_score > 0.05:\n",
        "        return 'positive'\n",
        "    elif compound_score < -0.05:\n",
        "        return 'negative'\n",
        "    else:\n",
        "        return 'neutral'"
      ],
      "metadata": {
        "id": "48ppH138Ztis"
      },
      "execution_count": 7,
      "outputs": []
    },
    {
      "cell_type": "code",
      "source": [
        "data['sentiment_scores'] = data['text'].apply(lambda x: sia.polarity_scores(x))\n",
        "data['compound_score'] = data['sentiment_scores'].apply(lambda x: x['compound'])\n",
        "data['sentiment'] = data['compound_score'].apply(classify_sentiment)"
      ],
      "metadata": {
        "id": "qg3omSWVZ4V5"
      },
      "execution_count": 8,
      "outputs": []
    },
    {
      "cell_type": "code",
      "source": [
        "print(data[['text', 'sentiment']])"
      ],
      "metadata": {
        "colab": {
          "base_uri": "https://localhost:8080/"
        },
        "id": "2fsPisaJaBZK",
        "outputId": "eecedcac-048a-4e21-d9af-eceaf0efb9c5"
      },
      "execution_count": 9,
      "outputs": [
        {
          "output_type": "stream",
          "name": "stdout",
          "text": [
            "                                                    text sentiment\n",
            "0                    @VirginAmerica What @dhepburn said.   neutral\n",
            "1      @VirginAmerica plus you've added commercials t...   neutral\n",
            "2      @VirginAmerica I didn't today... Must mean I n...   neutral\n",
            "3      @VirginAmerica it's really aggressive to blast...  negative\n",
            "4      @VirginAmerica and it's a really big bad thing...  negative\n",
            "...                                                  ...       ...\n",
            "14635  @AmericanAir thank you we got on a different f...  positive\n",
            "14636  @AmericanAir leaving over 20 minutes Late Flig...  negative\n",
            "14637  @AmericanAir Please bring American Airlines to...  positive\n",
            "14638  @AmericanAir you have my money, you change my ...  positive\n",
            "14639  @AmericanAir we have 8 ppl so we need 2 know h...  positive\n",
            "\n",
            "[14640 rows x 2 columns]\n"
          ]
        }
      ]
    },
    {
      "cell_type": "code",
      "source": [
        "while True:\n",
        "    user_input = input(\"Enter a text: \")\n",
        "\n",
        "    sentiment_scores = sia.polarity_scores(user_input)\n",
        "    compound_score = sentiment_scores['compound']\n",
        "    sentiment = classify_sentiment(compound_score)\n",
        "\n",
        "    print(f\"Predicted sentiment: {sentiment}\")\n",
        "\n",
        "    continue_prompt = input(\"Do you want to continue? (yes/no): \")\n",
        "    if continue_prompt.lower() != 'yes':\n",
        "        break"
      ],
      "metadata": {
        "colab": {
          "base_uri": "https://localhost:8080/"
        },
        "id": "Kk0oilK9aETI",
        "outputId": "48496f54-2e30-4cd1-d81d-e0aa38110818"
      },
      "execution_count": 13,
      "outputs": [
        {
          "name": "stdout",
          "output_type": "stream",
          "text": [
            "Enter a text: Have a nice day\n",
            "Predicted sentiment: positive\n",
            "Do you want to continue? (yes/no): yes\n",
            "Enter a text: Man was killed by a tiger\n",
            "Predicted sentiment: negative\n",
            "Do you want to continue? (yes/no): no\n"
          ]
        }
      ]
    },
    {
      "cell_type": "code",
      "source": [],
      "metadata": {
        "id": "3GBVjhMSaHxI"
      },
      "execution_count": null,
      "outputs": []
    }
  ]
}