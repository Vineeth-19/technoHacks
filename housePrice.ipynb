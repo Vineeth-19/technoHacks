{
  "nbformat": 4,
  "nbformat_minor": 0,
  "metadata": {
    "colab": {
      "provenance": [],
      "authorship_tag": "ABX9TyOJsmZDIjPlslqdQk3soYmZ",
      "include_colab_link": true
    },
    "kernelspec": {
      "name": "python3",
      "display_name": "Python 3"
    },
    "language_info": {
      "name": "python"
    }
  },
  "cells": [
    {
      "cell_type": "markdown",
      "metadata": {
        "id": "view-in-github",
        "colab_type": "text"
      },
      "source": [
        "<a href=\"https://colab.research.google.com/github/Vineeth-19/technoHacks/blob/main/housePrice.ipynb\" target=\"_parent\"><img src=\"https://colab.research.google.com/assets/colab-badge.svg\" alt=\"Open In Colab\"/></a>"
      ]
    },
    {
      "cell_type": "code",
      "execution_count": null,
      "metadata": {
        "id": "9kk1qYzKhVoN"
      },
      "outputs": [],
      "source": [
        "import seaborn as sns\n",
        "import pandas as pd\n",
        "import numpy as np\n",
        "from sklearn.model_selection import train_test_split\n",
        "import matplotlib.pyplot as plt\n",
        "from sklearn.linear_model import LinearRegression\n",
        "from sklearn.metrics import mean_squared_error"
      ]
    },
    {
      "cell_type": "code",
      "source": [
        "\n",
        "df=pd.read_csv(\"kc_house_data.csv\")"
      ],
      "metadata": {
        "id": "z73bSlkli7YM"
      },
      "execution_count": null,
      "outputs": []
    },
    {
      "cell_type": "code",
      "source": [
        "df.head()"
      ],
      "metadata": {
        "id": "0glR-O5njAUy"
      },
      "execution_count": null,
      "outputs": []
    },
    {
      "cell_type": "code",
      "source": [
        "\n",
        "df.describe()"
      ],
      "metadata": {
        "id": "AIWkQx6vjJ6a"
      },
      "execution_count": null,
      "outputs": []
    },
    {
      "cell_type": "code",
      "source": [
        "\n",
        "df.info()"
      ],
      "metadata": {
        "id": "_hVS3zqSmAlR"
      },
      "execution_count": null,
      "outputs": []
    },
    {
      "cell_type": "code",
      "source": [
        "\n",
        "df.isnull()"
      ],
      "metadata": {
        "id": "NLMnpODhmG4h"
      },
      "execution_count": null,
      "outputs": []
    },
    {
      "cell_type": "code",
      "source": [
        "\n",
        "df.isnull().sum()"
      ],
      "metadata": {
        "id": "r8U5LJ76mQSx"
      },
      "execution_count": null,
      "outputs": []
    },
    {
      "cell_type": "code",
      "source": [
        "X = df[['bedrooms', 'bathrooms', 'sqft_living', 'sqft_lot', 'floors', 'waterfront', 'view', 'condition', 'grade', 'sqft_above', 'sqft_basement', 'yr_built', 'zipcode', 'lat', 'long', 'sqft_living15', 'sqft_lot15']]\n",
        "y=df['price']\n",
        "\n"
      ],
      "metadata": {
        "id": "o8xQykC0mSFo"
      },
      "execution_count": null,
      "outputs": []
    },
    {
      "cell_type": "code",
      "source": [
        "\n",
        "X_train,X_test,y_train,y_test=train_test_split(X,y,test_size=0.3,random_state=42)"
      ],
      "metadata": {
        "id": "j5YcTPEbmViE"
      },
      "execution_count": null,
      "outputs": []
    },
    {
      "cell_type": "code",
      "source": [
        "\n",
        "\n",
        "df.shape"
      ],
      "metadata": {
        "id": "5ovHokVimZGD"
      },
      "execution_count": null,
      "outputs": []
    },
    {
      "cell_type": "code",
      "source": [
        "\n",
        "model = LinearRegression()\n",
        "model.fit(X_train,y_train)"
      ],
      "metadata": {
        "id": "rQFZHp1toNJn"
      },
      "execution_count": null,
      "outputs": []
    },
    {
      "cell_type": "code",
      "source": [
        "\n",
        "y_pred=model.predict(X_test)"
      ],
      "metadata": {
        "id": "-ICV1SeboRif"
      },
      "execution_count": null,
      "outputs": []
    },
    {
      "cell_type": "code",
      "source": [
        "\n",
        "mse=mean_squared_error(y_test,y_pred)\n",
        "print(\"Mean Squared Error:\",mse)\n"
      ],
      "metadata": {
        "id": "gVh9iKGEoUNV"
      },
      "execution_count": null,
      "outputs": []
    },
    {
      "cell_type": "code",
      "source": [
        "\n",
        "new_features = [[3, 2, 1800, 5000, 1, 0, 1, 3, 7, 1400, 400, 1990, 98001, 47.6, -122.2, 1700, 5000]]\n",
        "predicted_price = model.predict(new_features)[0]\n",
        "print(\"Predicted price:\",predicted_price)"
      ],
      "metadata": {
        "id": "QaW5tZRIoXRY"
      },
      "execution_count": null,
      "outputs": []
    },
    {
      "cell_type": "code",
      "source": [
        "\n",
        "bedrooms = int(input(\"Enter number of bedrooms: \"))\n",
        "bathrooms = float(input(\"Enter number of bathrooms: \"))\n",
        "sqft_living = int(input(\"Enter square footage of living space: \"))\n",
        "sqft_lot = int(input(\"Enter square footage of lot: \"))\n",
        "floors = float(input(\"Enter number of floors: \"))\n",
        "waterfront = int(input(\"Enter 1 if waterfront, 0 otherwise: \"))\n",
        "view = int(input(\"Enter view score (0-4): \"))\n",
        "condition = int(input(\"Enter condition score (1-5): \"))\n",
        "grade = int(input(\"Enter grade score (1-13): \"))\n",
        "sqft_above = int(input(\"Enter square footage above ground: \"))\n",
        "sqft_basement = int(input(\"Enter square footage of basement: \"))\n",
        "yr_built = int(input(\"Enter year built: \"))\n",
        "zipcode = int(input(\"Enter zipcode: \"))\n",
        "lat = float(input(\"Enter latitude: \"))\n",
        "long = float(input(\"Enter longitude: \"))\n",
        "sqft_living15 = int(input(\"Enter square footage of living space of nearest 15 neighbors: \"))\n",
        "sqft_lot15 = int(input(\"Enter square footage of lot of nearest 15 neighbors: \"))\n",
        "user_features = [[bedrooms, bathrooms, sqft_living, sqft_lot, floors, waterfront, view, condition, grade,\n",
        "                  sqft_above, sqft_basement, yr_built, zipcode, lat, long, sqft_living15, sqft_lot15]]\n",
        "predicted_price = model.predict(user_features)[0]\n",
        "predicted_price = max(predicted_price, 0)\n",
        "predicted_price = round(predicted_price)\n",
        "print(\"Predicted Price:\", predicted_price)"
      ],
      "metadata": {
        "colab": {
          "base_uri": "https://localhost:8080/"
        },
        "id": "axlyzr8Qoa6H",
        "outputId": "75d22e8f-a813-43c9-df64-84722b5156a5"
      },
      "execution_count": 36,
      "outputs": [
        {
          "output_type": "stream",
          "name": "stdout",
          "text": [
            "Enter number of bedrooms: 2\n",
            "Enter number of bathrooms: 2\n",
            "Enter square footage of living space: 1100\n",
            "Enter square footage of lot: 3500\n",
            "Enter number of floors: 1\n",
            "Enter 1 if waterfront, 0 otherwise: 0\n",
            "Enter view score (0-4): 2\n",
            "Enter condition score (1-5): 4\n",
            "Enter grade score (1-13): 10\n",
            "Enter square footage above ground: 1400\n",
            "Enter square footage of basement: 300\n",
            "Enter year built: 2000\n",
            "Enter zipcode: 98214\n",
            "Enter latitude: 47.2\n",
            "Enter longitude: -124\n",
            "Enter square footage of living space of nearest 15 neighbors: 1200\n",
            "Enter square footage of lot of nearest 15 neighbors: 1000\n",
            "Predicted Price: 739679\n"
          ]
        },
        {
          "output_type": "stream",
          "name": "stderr",
          "text": [
            "/usr/local/lib/python3.10/dist-packages/sklearn/base.py:439: UserWarning: X does not have valid feature names, but LinearRegression was fitted with feature names\n",
            "  warnings.warn(\n"
          ]
        }
      ]
    }
  ]
}